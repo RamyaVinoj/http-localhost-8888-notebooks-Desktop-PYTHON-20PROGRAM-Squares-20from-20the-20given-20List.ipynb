{
 "cells": [
  {
   "cell_type": "markdown",
   "id": "e16c9e0e",
   "metadata": {},
   "source": [
    "# Squares from the given List"
   ]
  },
  {
   "cell_type": "code",
   "execution_count": 7,
   "id": "f432b6f9",
   "metadata": {},
   "outputs": [
    {
     "data": {
      "text/plain": [
       "[16, 25, 4, 81]"
      ]
     },
     "execution_count": 7,
     "metadata": {},
     "output_type": "execute_result"
    }
   ],
   "source": [
    "def squares(a):\n",
    "    return a**2\n",
    "l = [4,5,2,9]\n",
    "y = map(squares,l)\n",
    "list(y)"
   ]
  },
  {
   "cell_type": "code",
   "execution_count": null,
   "id": "da1e58fc",
   "metadata": {},
   "outputs": [],
   "source": []
  },
  {
   "cell_type": "code",
   "execution_count": null,
   "id": "307aa701",
   "metadata": {},
   "outputs": [],
   "source": []
  }
 ],
 "metadata": {
  "kernelspec": {
   "display_name": "Python 3 (ipykernel)",
   "language": "python",
   "name": "python3"
  },
  "language_info": {
   "codemirror_mode": {
    "name": "ipython",
    "version": 3
   },
   "file_extension": ".py",
   "mimetype": "text/x-python",
   "name": "python",
   "nbconvert_exporter": "python",
   "pygments_lexer": "ipython3",
   "version": "3.10.0"
  }
 },
 "nbformat": 4,
 "nbformat_minor": 5
}
